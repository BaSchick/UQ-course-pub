{
 "cells": [
  {
   "cell_type": "markdown",
   "id": "63f9cadb",
   "metadata": {},
   "source": [
    "# Test for confidence intervals\n",
    "\n",
    "*SG2227 Saleh Rezaeiravesh and Philipp Schlatter*\n",
    "\n",
    "Simple test for a confidence interval: Estimate the population mean with the sample mean and check the CI for a given confidence. We assume many samples so we do not care about the bias.\n",
    "\n",
    "Note that this is the correct way for checking the confidence interval. The idea is that in $\\gamma$% of the cases, the true mean lies within the bounds computed by the same procedure.\n",
    "\n",
    "In the below case, we compute the probability\n",
    "\n",
    "$$P[ \\hat{\\mu}-C < \\mu < \\hat{\\mu}+C  ] = \\gamma$$\n",
    "\n",
    "with the confidence level $\\gamma$. The interval from $\\hat{\\mu}-C$ to $\\hat{\\mu}$ is then the $\\gamma$-% confidence interval for $\\hat\\mu$.\n",
    "\n",
    "\n",
    "It is important to understand that:\n",
    "- A 95% confidence level does not mean that 95% of the sample data lie within the confidence interval.\n",
    "- A 95% confidence level does not mean that for a given realised interval there is a 95% probability that the population parameter lies within the interval\n"
   ]
  },
  {
   "cell_type": "code",
   "execution_count": 23,
   "id": "ee9baa3e",
   "metadata": {},
   "outputs": [
    {
     "data": {
      "application/vnd.jupyter.widget-view+json": {
       "model_id": "787f41210ea84aeb97e528a657475880",
       "version_major": 2,
       "version_minor": 0
      },
      "text/plain": [
       "  0%|          | 0/200 [00:00<?, ?it/s]"
      ]
     },
     "metadata": {},
     "output_type": "display_data"
    },
    {
     "name": "stdout",
     "output_type": "stream",
     "text": [
      "True mean within 95.0%-CI: 93.5%\n"
     ]
    }
   ],
   "source": [
    "import numpy as np\n",
    "from scipy.stats import norm\n",
    "from tqdm.notebook import trange, tqdm\n",
    "\n",
    "# set the confidence level\n",
    "confidence = 0.95\n",
    "\n",
    "# do a total of W repetitions to check CI\n",
    "W=200\n",
    "\n",
    "# Divide N samples to K batches each of size M.\n",
    "K=1000; M=500; \n",
    "N=K*M;\n",
    "\n",
    "mu, sigma = 5, 2.5 # mean and standard deviation\n",
    "\n",
    "# t_crit for the given confidence level. We assume >30 or so samples, therefore we take the \n",
    "# normal distribution directly.\n",
    "t_crit = np.abs(norm.ppf((1-confidence)/2))\n",
    "\n",
    "Wok=0\n",
    "smean = np.zeros(K)\n",
    "svar = np.zeros(K)\n",
    "for j in tqdm(range(W)):\n",
    "    \n",
    "    # create samples, either normal or uniform\n",
    "    # s = np.random.normal(mu, sigma, N)\n",
    "    s = mu+np.sqrt(12)*sigma*(np.random.random_sample((N,))-0.5)\n",
    "\n",
    "    # compute batch means\n",
    "    for i in range(K):\n",
    "        ss = s[i*M:(i+1)*M]   # this is batch i\n",
    "        smean[i] = np.mean(ss)\n",
    "    # compute mean and variance over all batches. We assume >30 or so samples therefore we do not \n",
    "    # care about the potential bias.\n",
    "    bmu = np.mean(smean)\n",
    "    bsigma = np.std(smean,ddof=0)\n",
    "    # compute confidence interval\n",
    "    CI = bsigma/np.sqrt(K)*t_crit\n",
    "    # check confidence interval\n",
    "    if bmu-CI<mu and bmu+CI>mu:\n",
    "        Wok = Wok+1\n",
    "print('True mean within %2.1f%%-CI: %2.1f%%'% (confidence*100,Wok/W*100)  )"
   ]
  },
  {
   "cell_type": "code",
   "execution_count": null,
   "id": "1471ebf5",
   "metadata": {},
   "outputs": [],
   "source": []
  },
  {
   "cell_type": "code",
   "execution_count": null,
   "id": "43aec106",
   "metadata": {},
   "outputs": [],
   "source": []
  }
 ],
 "metadata": {
  "kernelspec": {
   "display_name": "Python 3 (ipykernel)",
   "language": "python",
   "name": "python3"
  },
  "language_info": {
   "codemirror_mode": {
    "name": "ipython",
    "version": 3
   },
   "file_extension": ".py",
   "mimetype": "text/x-python",
   "name": "python",
   "nbconvert_exporter": "python",
   "pygments_lexer": "ipython3",
   "version": "3.9.13"
  }
 },
 "nbformat": 4,
 "nbformat_minor": 5
}
